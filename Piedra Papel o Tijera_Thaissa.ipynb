{
 "cells": [
  {
   "cell_type": "markdown",
   "id": "8c12876b",
   "metadata": {},
   "source": [
    "Piedra Papel o Tijera"
   ]
  },
  {
   "cell_type": "markdown",
   "id": "61ec299a",
   "metadata": {},
   "source": [
    " Este es un juego clásico en el que dos jugadores seleccionan una de tres opciones: Piedra, Papel o Tijera. Cada opción tiene una relación de victoria diferente: la Piedra vence a la Tijera, la Tijera vence al Papel y el Papel vence a la Piedra. El objetivo del juego es elegir la opción que vencerá a la opción seleccionada por el oponente. El juego se juega en rondas y el jugador que gana más rondas es el ganador del juego."
   ]
  },
  {
   "cell_type": "code",
   "execution_count": null,
   "id": "22f58772",
   "metadata": {},
   "outputs": [
    {
     "name": "stdout",
     "output_type": "stream",
     "text": [
      "Computador eligió: tijera\n",
      "Empate.\n"
     ]
    }
   ],
   "source": [
    "#PPasso 1: la receta:\n",
    "# Tendremos tres opciones: \"piedra\", \"papel\", \"tijera\".\n",
    "#El computador elige al azar.\n",
    "#Comparamos: piedra>tijera, tijera>papel, papel>piedra.\n",
    "#MMostramos quién gana la ronda.\n",
    "#(Variación) Repetimos varias rondas y llevamos marcador.\n",
    "# Juego: una ronda\n",
    "# Idea: normalizamos a minúsculas y validamos.\n",
    "\n",
    "import random  # de la librería estándar\n",
    "\n",
    "opciones = [\"piedra\", \"papel\", \"tijera\"]\n",
    "\n",
    "jugador = input(\"Elige piedra, papel o tijera: \").strip().lower()\n",
    "\n",
    "# Validación simple\n",
    "if jugador not in opciones:\n",
    "    print(\"Entrada no válida. Intenta de nuevo.\")\n",
    "else:\n",
    "    computador = random.choice(opciones)\n",
    "    print(f\"Computador eligió: {computador}\")\n",
    "\n",
    "    if jugador == computador:\n",
    "        print(\"Empate.\")\n",
    "    elif (jugador == \"piedra\" and computador == \"tijera\") or \\\n",
    "         (jugador == \"tijera\" and computador == \"papel\") or \\\n",
    "         (jugador == \"papel\" and computador == \"piedra\"):\n",
    "        print(\"¡Ganaste!\")\n",
    "    else:\n",
    "        print(\"Perdiste.\")\n",
    "    \n",
    "print(decidir_ganador(\"piedra\", \"tijera\"))   # jugador\n",
    "print(decidir_ganador(\"papel\", \"tijera\"))    # computador\n",
    "print(decidir_ganador(\"papel\",)"
   ]
  },
  {
   "cell_type": "code",
   "execution_count": 3,
   "id": "749cc42a",
   "metadata": {},
   "outputs": [
    {
     "name": "stdout",
     "output_type": "stream",
     "text": [
      "computador\n",
      "jugador\n",
      "computador\n"
     ]
    }
   ],
   "source": [
    "# Passo 2: Imponer y separar las reglas\n",
    "# Decide el resultado de una ronda\n",
    "# devuelve \"empate\", \"jugador\" o \"computador\"\n",
    "\n",
    "def decidir_ganador(jugador, computador):\n",
    "    if jugador == computador:\n",
    "        return \"empate\"\n",
    "    gana_jugador = (\n",
    "        (jugador == \"piedra\" and computador == \"tijera\") or\n",
    "        (jugador == \"tijera\" and computador == \"papel\") or\n",
    "        (jugador == \"papel\" and computador == \"piedra\")\n",
    "    )\n",
    "    return \"jugador\" if gana_jugador else \"computador\"\n",
    "\n",
    "# Prueba rápida de la función\n",
    "print(decidir_ganador(\"tilera\", \"tijera\"))   # jugador\n",
    "print(decidir_ganador(\"piedra\", \"tijera\"))    # computador\n",
    "print(decidir_ganador(\"papel\", \"tijera\"))     # empate"
   ]
  },
  {
   "cell_type": "code",
   "execution_count": null,
   "id": "ce2c60c1",
   "metadata": {},
   "outputs": [],
   "source": []
  }
 ],
 "metadata": {
  "kernelspec": {
   "display_name": "Python 3",
   "language": "python",
   "name": "python3"
  },
  "language_info": {
   "codemirror_mode": {
    "name": "ipython",
    "version": 3
   },
   "file_extension": ".py",
   "mimetype": "text/x-python",
   "name": "python",
   "nbconvert_exporter": "python",
   "pygments_lexer": "ipython3",
   "version": "3.13.7"
  }
 },
 "nbformat": 4,
 "nbformat_minor": 5
}
