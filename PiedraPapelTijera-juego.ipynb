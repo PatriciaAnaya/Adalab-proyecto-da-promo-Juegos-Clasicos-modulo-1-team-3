{
 "cells": [
  {
   "cell_type": "markdown",
   "id": "86458e73",
   "metadata": {},
   "source": [
    "## Piedra Papel Tijera"
   ]
  },
  {
   "cell_type": "code",
   "execution_count": null,
   "id": "c269c52f",
   "metadata": {},
   "outputs": [],
   "source": [
    "### Código de Rocío"
   ]
  },
  {
   "cell_type": "code",
   "execution_count": null,
   "id": "ffb8cdf6",
   "metadata": {},
   "outputs": [],
   "source": [
    "### Código de Thaissa"
   ]
  },
  {
   "cell_type": "code",
   "execution_count": null,
   "id": "1d57f127",
   "metadata": {},
   "outputs": [],
   "source": [
    "### Código de Patricia"
   ]
  },
  {
   "cell_type": "code",
   "execution_count": null,
   "id": "e3516869",
   "metadata": {},
   "outputs": [],
   "source": [
    "### Código de Jennifer"
   ]
  },
  {
   "cell_type": "code",
   "execution_count": null,
   "id": "ada8aa34",
   "metadata": {},
   "outputs": [],
   "source": [
    "### Código de Ana Isabel"
   ]
  },
  {
   "cell_type": "code",
   "execution_count": null,
   "id": "ab583e84",
   "metadata": {},
   "outputs": [],
   "source": [
    "### Código final"
   ]
  }
 ],
 "metadata": {
  "kernelspec": {
   "display_name": "base",
   "language": "python",
   "name": "python3"
  },
  "language_info": {
   "name": "python",
   "version": "3.13.5"
  }
 },
 "nbformat": 4,
 "nbformat_minor": 5
}
