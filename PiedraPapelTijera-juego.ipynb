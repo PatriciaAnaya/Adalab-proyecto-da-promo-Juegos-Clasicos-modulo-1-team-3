{
 "cells": [
  {
   "cell_type": "markdown",
   "id": "86458e73",
   "metadata": {},
   "source": [
    "## Piedra Papel Tijera"
   ]
  },
  {
   "cell_type": "markdown",
   "id": "8564e78b",
   "metadata": {},
   "source": [
    "- Reglas del Juego \"Piedra, Papel y Tijera\":\n",
    "\n",
    "    - Dos jugadores eligen una de las tres opciones: \"Piedra\", \"Papel\" o \"Tijera\".\n",
    "\n",
    "    - Las reglas para determinar al ganador son:\n",
    "        \n",
    "        - Piedra vence a Tijera.\n",
    "\n",
    "        - Tijera vence a Papel.\n",
    "\n",
    "        - Papel vence a Piedra.\n",
    "\n",
    "        - El jugador que gana una ronda obtiene un punto.\n",
    "        \n",
    "        - El juego continúa hasta que un jugador haya acumulado 3 puntos, convirtiéndose en el ganador.\n",
    "\n",
    "\n",
    "- Pistas para las alumnas:\n",
    "\n",
    "    1. Comienza por definir el número de puntos objetivo que se deben alcanzar para ganar el juego.\n",
    "\n",
    "    2. Implementa una función que obtenga la elección del jugador y valide que sea una de las opciones válidas (\"Piedra\", \"Papel\" o \"Tijera\").\n",
    "\n",
    "    3. Utiliza un bucle `while` para llevar un registro de los puntos de cada jugador y continuar el juego hasta que se alcance el número de puntos objetivo.\n",
    "\n",
    "    4. Genera una elección aleatoria para el segundo jugador (la computadora) utilizando el módulo `random`.\n",
    "\n",
    "    5. Determina al ganador de cada ronda y actualiza los puntos correspondientes.\n",
    "\n",
    "    6. Verifica si algún jugador ha alcanzado el número de puntos objetivo y finalicen el juego cuando eso suceda."
   ]
  },
  {
   "cell_type": "code",
   "execution_count": 8,
   "id": "c269c52f",
   "metadata": {},
   "outputs": [],
   "source": [
    "import random\n",
    "\n",
    "def piedra_papel_tijera():\n",
    "    opciones = [\"piedra\", \"papel\", \"tijera\"]\n",
    "    resultado = {\"puntuacion_j\": 0, \"puntuacion_r\": 0}\n",
    "\n",
    "    print(\"¡Bienvenido al juego de Piedra 🪨, Papel 📋 o Tijera ✂️!\")\n",
    "    print(\"El primero que gane 3 rondas, gana el juego 🏅🏆.\")\n",
    "\n",
    "    while True:\n",
    "        if resultado[\"puntuacion_j\"] >= 3:\n",
    "            print(\"🎆 ¡Ganaste el juego! 🎆\")\n",
    "            break\n",
    "\n",
    "        if resultado[\"puntuacion_r\"] >= 3:\n",
    "            print(\"Has perdido el juego.🥲\")\n",
    "            break\n",
    "\n",
    "        eleccion_j = input(\"Indica una de estas tres opciones: 'piedra', 'papel' o 'tijera'. Si quieres parar la partida indica 'salir'\").lower().strip()\n",
    "\n",
    "        if eleccion_j == 'salir':\n",
    "            print(\"Has seleccionado salir\")\n",
    "            break\n",
    "\n",
    "        if eleccion_j not in opciones:\n",
    "            print(\" ❌ Error: opción no válida. Escribe piedra, papel o tijera.\")\n",
    "            continue\n",
    "        \n",
    "        eleccion_r = random.choice(opciones)\n",
    "        print(f\"Tú: {eleccion_j} | Rival: {eleccion_r}\")\n",
    "\n",
    "        if eleccion_j == eleccion_r:\n",
    "            print(\"Empate. 🤯\")\n",
    "\n",
    "        elif (eleccion_j == \"piedra\" and eleccion_r == \"tijera\") or \\\n",
    "             (eleccion_j == \"papel\" and eleccion_r == \"piedra\") or \\\n",
    "             (eleccion_j == \"tijera\" and eleccion_r == \"papel\"):\n",
    "            resultado[\"puntuacion_j\"] += 1\n",
    "            print(f\"¡Ganaste esta ronda! \\nResultado puntuacion jugador: {resultado['puntuacion_j']} \\nResultado puntuacion rival: {resultado['puntuacion_r']}\")\n",
    "        else:\n",
    "            resultado[\"puntuacion_r\"] += 1\n",
    "            print(f\"Perdiste esta ronda. \\nResultado puntuacion jugador: {resultado['puntuacion_j']} \\nResultado puntuacion rival: {resultado['puntuacion_r']}\")\n",
    "\n",
    "    print(\"Fin del juego. ¡Gracias por jugar!\")\n"
   ]
  },
  {
   "cell_type": "code",
   "execution_count": 9,
   "id": "62d4ca21",
   "metadata": {},
   "outputs": [
    {
     "name": "stdout",
     "output_type": "stream",
     "text": [
      "¡Bienvenido al juego de Piedra 🪨, Papel 📋 o Tijera ✂️!\n",
      "El primero que gane 3 rondas, gana el juego 🏅🏆.\n",
      "Tú: papel | Rival: tijera\n",
      "Perdiste esta ronda. \n",
      "Resultado puntuacion jugador: 0 \n",
      "Resultado puntuacion rival: 1\n",
      "Tú: tijera | Rival: piedra\n",
      "Perdiste esta ronda. \n",
      "Resultado puntuacion jugador: 0 \n",
      "Resultado puntuacion rival: 2\n",
      " ❌ Error: opción no válida. Escribe piedra, papel o tijera.\n",
      "Tú: piedra | Rival: papel\n",
      "Perdiste esta ronda. \n",
      "Resultado puntuacion jugador: 0 \n",
      "Resultado puntuacion rival: 3\n",
      "Has perdido el juego.🥲\n",
      "Fin del juego. ¡Gracias por jugar!\n"
     ]
    }
   ],
   "source": [
    "piedra_papel_tijera()"
   ]
  }
 ],
 "metadata": {
  "kernelspec": {
   "display_name": "base",
   "language": "python",
   "name": "python3"
  },
  "language_info": {
   "codemirror_mode": {
    "name": "ipython",
    "version": 3
   },
   "file_extension": ".py",
   "mimetype": "text/x-python",
   "name": "python",
   "nbconvert_exporter": "python",
   "pygments_lexer": "ipython3",
   "version": "3.13.5"
  }
 },
 "nbformat": 4,
 "nbformat_minor": 5
}
