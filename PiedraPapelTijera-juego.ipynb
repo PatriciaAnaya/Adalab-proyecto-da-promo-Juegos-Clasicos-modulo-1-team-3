{
 "cells": [
  {
   "cell_type": "markdown",
   "id": "86458e73",
   "metadata": {},
   "source": [
    "## Piedra Papel Tijera"
   ]
  },
  {
   "cell_type": "markdown",
   "id": "8564e78b",
   "metadata": {},
   "source": [
    "- Reglas del Juego \"Piedra, Papel y Tijera\":\n",
    "\n",
    "    - Dos jugadores eligen una de las tres opciones: \"Piedra\", \"Papel\" o \"Tijera\".\n",
    "\n",
    "    - Las reglas para determinar al ganador son:\n",
    "        \n",
    "        - Piedra vence a Tijera.\n",
    "\n",
    "        - Tijera vence a Papel.\n",
    "\n",
    "        - Papel vence a Piedra.\n",
    "\n",
    "        - El jugador que gana una ronda obtiene un punto.\n",
    "        \n",
    "        - El juego continúa hasta que un jugador haya acumulado 3 puntos, convirtiéndose en el ganador.\n",
    "\n",
    "\n",
    "- Pistas para las alumnas:\n",
    "\n",
    "    1. Comienza por definir el número de puntos objetivo que se deben alcanzar para ganar el juego.\n",
    "\n",
    "    2. Implementa una función que obtenga la elección del jugador y valide que sea una de las opciones válidas (\"Piedra\", \"Papel\" o \"Tijera\").\n",
    "\n",
    "    3. Utiliza un bucle `while` para llevar un registro de los puntos de cada jugador y continuar el juego hasta que se alcance el número de puntos objetivo.\n",
    "\n",
    "    4. Genera una elección aleatoria para el segundo jugador (la computadora) utilizando el módulo `random`.\n",
    "\n",
    "    5. Determina al ganador de cada ronda y actualiza los puntos correspondientes.\n",
    "\n",
    "    6. Verifica si algún jugador ha alcanzado el número de puntos objetivo y finalicen el juego cuando eso suceda."
   ]
  },
  {
   "cell_type": "code",
   "execution_count": null,
   "id": "c269c52f",
   "metadata": {},
   "outputs": [],
   "source": [
    "### Código de Rocío"
   ]
  },
  {
   "cell_type": "code",
   "execution_count": null,
   "id": "ffb8cdf6",
   "metadata": {},
   "outputs": [],
   "source": [
    "### Código de Thaissa"
   ]
  },
  {
   "cell_type": "markdown",
   "id": "0323788b",
   "metadata": {},
   "source": [
    "Código de Patricia"
   ]
  },
  {
   "cell_type": "code",
   "execution_count": 10,
   "id": "1d57f127",
   "metadata": {},
   "outputs": [],
   "source": [
    "puntuacion_usuario = 0\n",
    "puntuacion_maquina = 0\n",
    "opciones = [\"piedra\", \"papel\", \"tijera\"]\n",
    "jugando = True\n",
    "\n",
    "def jugar():\n",
    "    while jugando  == True:\n",
    "        import random\n",
    "        eleccion_usuario = input(\"Bienvenido al juego ¡Piedra, papel o tijera'! Por favor, introduce tu elección:\")\n",
    "        eleccion_maquina = random.sample(opciones,1)\n",
    "        if eleccion_usuario == \"tijera\" and eleccion_maquina == \"papel\":\n",
    "            puntuacion_usuario += 1\n",
    "            print (f\"Tijera corta a papel! Tienes {puntuacion_usuario} puntos\")\n",
    "\n",
    "\n",
    "\n"
   ]
  },
  {
   "cell_type": "code",
   "execution_count": null,
   "id": "e3516869",
   "metadata": {},
   "outputs": [],
   "source": [
    "### Código de Jennifer"
   ]
  },
  {
   "cell_type": "code",
   "execution_count": null,
   "id": "ada8aa34",
   "metadata": {},
   "outputs": [],
   "source": [
    "### Código de Ana Isabel"
   ]
  },
  {
   "cell_type": "code",
   "execution_count": null,
   "id": "ab583e84",
   "metadata": {},
   "outputs": [],
   "source": [
    "### Código final"
   ]
  }
 ],
 "metadata": {
  "kernelspec": {
   "display_name": "base",
   "language": "python",
   "name": "python3"
  },
  "language_info": {
   "codemirror_mode": {
    "name": "ipython",
    "version": 3
   },
   "file_extension": ".py",
   "mimetype": "text/x-python",
   "name": "python",
   "nbconvert_exporter": "python",
   "pygments_lexer": "ipython3",
   "version": "3.12.7"
  }
 },
 "nbformat": 4,
 "nbformat_minor": 5
}
