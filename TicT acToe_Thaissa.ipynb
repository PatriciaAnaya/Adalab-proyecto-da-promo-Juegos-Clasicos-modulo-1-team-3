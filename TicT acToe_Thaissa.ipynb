{
 "cells": [
  {
   "cell_type": "code",
   "execution_count": null,
   "id": "ff080a5a",
   "metadata": {},
   "outputs": [],
   "source": [
    "Tic Tac Toe"
   ]
  },
  {
   "cell_type": "markdown",
   "id": "1e6610e7",
   "metadata": {},
   "source": []
  },
  {
   "cell_type": "code",
   "execution_count": 2,
   "id": "53461654",
   "metadata": {},
   "outputs": [],
   "source": [
    "# Tres en raya - versión con validaciones y \"jugar de nuevo\"\n",
    "# Explico a mis compis:\n",
    "# - Validamos que el usuario escriba un número 1-9.\n",
    "# - Verificamos que la casilla esté libre.\n",
    "# - Preguntamos si quieren volver a jugar al final.\n",
    "\n",
    "def crear_tablero():\n",
    "    # Tablero numerado para que sea fácil elegir\n",
    "    return [\"1\",\"2\",\"3\",\"4\",\"5\",\"6\",\"7\",\"8\",\"9\"]\n",
    "\n",
    "def mostrar_tablero(tablero):\n",
    "    print()\n",
    "    print(f\" {tablero[0]} | {tablero[1]} | {tablero[2]}\")\n",
    "    print(\"---+---+---\")\n",
    "    print(f\" {tablero[3]} | {tablero[4]} | {tablero[5]}\")\n",
    "    print(\"---+---+---\")\n",
    "    print(f\" {tablero[6]} | {tablero[7]} | {tablero[8]}\")\n",
    "    print()\n",
    "\n",
    "def leer_posicion(tablero, turno):\n",
    "    # Pide al jugador una casilla válida y libre\n",
    "    while True:\n",
    "        entrada = input(f\"Turno de {turno}. Elige casilla (1-9): \").strip()\n",
    "        if not entrada.isdigit():\n",
    "            print(\"Por favor, escribe un número.\")\n",
    "            continue\n",
    "        pos = int(entrada)\n",
    "        if pos < 1 or pos > 9:\n",
    "            print(\"El número debe estar entre 1 y 9.\")\n",
    "            continue\n",
    "        idx = pos - 1\n",
    "        if tablero[idx] in [\"X\",\"O\"]:\n",
    "            print(\"Casilla ocupada. Elige otra.\")\n",
    "            continue\n",
    "        return idx\n",
    "\n",
    "def hay_ganador(t, s):\n",
    "    lineas = [\n",
    "        (0,1,2), (3,4,5), (6,7,8),   # filas\n",
    "        (0,3,6), (1,4,7), (2,5,8),   # columnas\n",
    "        (0,4,8), (2,4,6)             # diagonales\n",
    "    ]\n",
    "    for a,b,c in lineas:\n",
    "        if t[a] == t[b] == t[c] == s:\n",
    "            return True\n",
    "    return False\n",
    "\n",
    "def jugar_partida():\n",
    "    tablero = crear_tablero()\n",
    "    turno = \"X\"\n",
    "    jugadas = 0\n",
    "\n",
    "    while True:\n",
    "        mostrar_tablero(tablero)\n",
    "        idx = leer_posicion(tablero, turno)\n",
    "        tablero[idx] = turno\n",
    "        jugadas += 1\n",
    "\n",
    "        if hay_ganador(tablero, turno):\n",
    "            mostrar_tablero(tablero)\n",
    "            print(f\"¡Gana {turno}!\")\n",
    "            return\n",
    "\n",
    "        if jugadas == 9:\n",
    "            mostrar_tablero(tablero)\n",
    "            print(\"Empate\")\n",
    "            return\n",
    "\n",
    "        turno = \"O\" if turno == \"X\" else \"X\"\n",
    "\n",
    "def tres_en_raya():\n",
    "    # Bucle principal para poder jugar varias veces\n",
    "    while True:\n",
    "        jugar_partida()\n",
    "        otra = input(\"¿Jugamos otra vez? (s/n): \").strip().lower()\n",
    "        if otra != \"s\":\n",
    "            print(\"¡Gracias por jugar!\")\n",
    "            break"
   ]
  },
  {
   "cell_type": "code",
   "execution_count": null,
   "id": "4e0d06eb",
   "metadata": {},
   "outputs": [
    {
     "name": "stdout",
     "output_type": "stream",
     "text": [
      "\n",
      " 1 | 2 | 3\n",
      "---+---+---\n",
      " 4 | 5 | 6\n",
      "---+---+---\n",
      " 7 | 8 | 9\n",
      "\n",
      "\n",
      " 1 | 2 | 3\n",
      "---+---+---\n",
      " X | 5 | 6\n",
      "---+---+---\n",
      " 7 | 8 | 9\n",
      "\n"
     ]
    }
   ],
   "source": [
    "tres_en_raya(4)"
   ]
  }
 ],
 "metadata": {
  "kernelspec": {
   "display_name": "Python 3",
   "language": "python",
   "name": "python3"
  },
  "language_info": {
   "codemirror_mode": {
    "name": "ipython",
    "version": 3
   },
   "file_extension": ".py",
   "mimetype": "text/x-python",
   "name": "python",
   "nbconvert_exporter": "python",
   "pygments_lexer": "ipython3",
   "version": "3.13.7"
  }
 },
 "nbformat": 4,
 "nbformat_minor": 5
}
