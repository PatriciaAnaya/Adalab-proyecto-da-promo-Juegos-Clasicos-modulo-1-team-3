{
 "cells": [
  {
   "cell_type": "markdown",
   "id": "f360dc52",
   "metadata": {},
   "source": [
    "## Piedra, papel y tijera\n",
    "\n",
    "- Reglas del Juego \"Piedra, Papel y Tijera\":\n",
    "\n",
    "    - Dos jugadores eligen una de las tres opciones: \"Piedra\", \"Papel\" o \"Tijera\".\n",
    "\n",
    "    - Las reglas para determinar al ganador son:\n",
    "        \n",
    "        - Piedra vence a Tijera.\n",
    "\n",
    "        - Tijera vence a Papel.\n",
    "\n",
    "        - Papel vence a Piedra.\n",
    "\n",
    "        - El jugador que gana una ronda obtiene un punto.\n",
    "        \n",
    "        - El juego continúa hasta que un jugador haya acumulado 3 puntos, convirtiéndose en el ganador.\n",
    "\n",
    "\n",
    "- Pistas para las alumnas:\n",
    "\n",
    "    1. Comienza por definir el número de puntos objetivo que se deben alcanzar para ganar el juego.\n",
    "\n",
    "    2. Implementa una función que obtenga la elección del jugador y valide que sea una de las opciones válidas (\"Piedra\", \"Papel\" o \"Tijera\").\n",
    "\n",
    "    3. Utiliza un bucle `while` para llevar un registro de los puntos de cada jugador y continuar el juego hasta que se alcance el número de puntos objetivo.\n",
    "\n",
    "    4. Genera una elección aleatoria para el segundo jugador (la computadora) utilizando el módulo `random`.\n",
    "\n",
    "    5. Determina al ganador de cada ronda y actualiza los puntos correspondientes.\n",
    "\n",
    "    6. Verifica si algún jugador ha alcanzado el número de puntos objetivo y finalicen el juego cuando eso suceda."
   ]
  },
  {
   "cell_type": "markdown",
   "id": "65a27ea2",
   "metadata": {},
   "source": [
    "Código de Rocío"
   ]
  },
  {
   "cell_type": "code",
   "execution_count": null,
   "id": "dccc46c2",
   "metadata": {},
   "outputs": [],
   "source": []
  },
  {
   "cell_type": "markdown",
   "id": "795bbd5d",
   "metadata": {},
   "source": [
    "Código de Thaissa"
   ]
  },
  {
   "cell_type": "code",
   "execution_count": null,
   "id": "672dc10a",
   "metadata": {},
   "outputs": [],
   "source": []
  },
  {
   "cell_type": "markdown",
   "id": "8c88c678",
   "metadata": {},
   "source": [
    "Código de Patricia"
   ]
  },
  {
   "cell_type": "code",
   "execution_count": 3,
   "id": "c7af30eb",
   "metadata": {},
   "outputs": [],
   "source": [
    "import random"
   ]
  },
  {
   "cell_type": "code",
   "execution_count": null,
   "id": "76fb9e69",
   "metadata": {},
   "outputs": [],
   "source": [
    "# no imprime, no para y bucle infinito.\n",
    "\n",
    "def jugar():\n",
    "    jugando = True\n",
    "    puntuacion_usuario = 0\n",
    "    puntuacion_maquina = 0\n",
    "    opciones = [\"piedra\", \"papel\", \"tijera\"]\n",
    "\n",
    "    while jugando  == True:\n",
    "        eleccion_usuario = input(\"Bienvenido al juego ¡Piedra, papel o tijera'! Por favor, introduce tu elección:\")\n",
    "        print(f\"¡Has escogido {eleccion_usuario}!\")\n",
    "        eleccion_maquina = random.sample(opciones, 1)\n",
    "        print(f\"¡La máquina ha escogido {eleccion_maquina}!\")\n",
    "\n",
    "        if puntuacion_maquina < 3 or puntuacion_usuario < 3:\n",
    "\n",
    "            if eleccion_maquina == eleccion_usuario:\n",
    "                print (f\"¡Empate! Ambos habéis escogido {eleccion_usuario}.\")\n",
    "\n",
    "            elif eleccion_usuario == \"tijera\" and eleccion_maquina == \"papel\":\n",
    "                puntuacion_usuario += 1\n",
    "                print (f\"{eleccion_usuario} corta a {eleccion_maquina}! Tienes {puntuacion_usuario} puntos\")\n",
    "                \n",
    "\n",
    "            elif eleccion_usuario == \"papel\" and eleccion_maquina == \"piedra\":\n",
    "                puntuacion_usuario += 1\n",
    "                print (f\"{eleccion_usuario} envuelve a {eleccion_maquina}! Tienes {puntuacion_usuario} puntos\")\n",
    "                \n",
    "\n",
    "            elif eleccion_usuario == \"piedra\" and eleccion_maquina == \"tijera\":\n",
    "                puntuacion_usuario += 1\n",
    "                print (f\"{eleccion_usuario} machaca {eleccion_maquina}! Tienes {puntuacion_usuario} puntos\")\n",
    "\n",
    "            else:\n",
    "                puntuacion_maquina += 1\n",
    "                print(f\"Gana máquina porque ha elegido {eleccion_maquina}. La máquina lleva {puntuacion_maquina} puntos.\")\n",
    "\n",
    "        elif puntuacion_maquina == 3:\n",
    "            print(\"¡La máquina ha ganado esta ronda!\")\n",
    "            jugando = False\n",
    "\n",
    "        elif puntuacion_usuario == 3:\n",
    "            print(\"¡Has ganado esta ronda!\")\n",
    "            jugando = False\n"
   ]
  },
  {
   "cell_type": "code",
   "execution_count": null,
   "id": "97f7145e",
   "metadata": {},
   "outputs": [
    {
     "name": "stdout",
     "output_type": "stream",
     "text": [
      "¡Has escogido tijera!\n",
      "¡La máquina ha escogido ['tijera']!\n",
      "Gana máquina porque ha elegido ['tijera']. La máquina lleva 1 puntos.\n",
      "¡Has escogido tijera!\n",
      "¡La máquina ha escogido ['piedra']!\n",
      "Gana máquina porque ha elegido ['piedra']. La máquina lleva 2 puntos.\n"
     ]
    }
   ],
   "source": [
    "jugar()"
   ]
  },
  {
   "cell_type": "code",
   "execution_count": null,
   "id": "370ded26",
   "metadata": {},
   "outputs": [],
   "source": []
  },
  {
   "cell_type": "markdown",
   "id": "84c10872",
   "metadata": {},
   "source": [
    "Código de Jennifer"
   ]
  },
  {
   "cell_type": "code",
   "execution_count": null,
   "id": "3ed61b58",
   "metadata": {},
   "outputs": [],
   "source": []
  },
  {
   "cell_type": "markdown",
   "id": "48d1a355",
   "metadata": {},
   "source": [
    "Código de Ana Isabel"
   ]
  },
  {
   "cell_type": "code",
   "execution_count": null,
   "id": "ca0b9a7b",
   "metadata": {},
   "outputs": [],
   "source": []
  }
 ],
 "metadata": {
  "kernelspec": {
   "display_name": "base",
   "language": "python",
   "name": "python3"
  },
  "language_info": {
   "codemirror_mode": {
    "name": "ipython",
    "version": 3
   },
   "file_extension": ".py",
   "mimetype": "text/x-python",
   "name": "python",
   "nbconvert_exporter": "python",
   "pygments_lexer": "ipython3",
   "version": "3.12.7"
  }
 },
 "nbformat": 4,
 "nbformat_minor": 5
}
