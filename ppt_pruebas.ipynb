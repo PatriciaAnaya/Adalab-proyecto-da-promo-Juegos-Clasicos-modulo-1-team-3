{
 "cells": [
  {
   "cell_type": "markdown",
   "id": "f360dc52",
   "metadata": {},
   "source": [
    "## Piedra, papel y tijera\n",
    "\n",
    "- Reglas del Juego \"Piedra, Papel y Tijera\":\n",
    "\n",
    "    - Dos jugadores eligen una de las tres opciones: \"Piedra\", \"Papel\" o \"Tijera\".\n",
    "\n",
    "    - Las reglas para determinar al ganador son:\n",
    "        \n",
    "        - Piedra vence a Tijera.\n",
    "\n",
    "        - Tijera vence a Papel.\n",
    "\n",
    "        - Papel vence a Piedra.\n",
    "\n",
    "        - El jugador que gana una ronda obtiene un punto.\n",
    "        \n",
    "        - El juego continúa hasta que un jugador haya acumulado 3 puntos, convirtiéndose en el ganador.\n",
    "\n",
    "\n",
    "- Pistas para las alumnas:\n",
    "\n",
    "    1. Comienza por definir el número de puntos objetivo que se deben alcanzar para ganar el juego.\n",
    "\n",
    "    2. Implementa una función que obtenga la elección del jugador y valide que sea una de las opciones válidas (\"Piedra\", \"Papel\" o \"Tijera\").\n",
    "\n",
    "    3. Utiliza un bucle `while` para llevar un registro de los puntos de cada jugador y continuar el juego hasta que se alcance el número de puntos objetivo.\n",
    "\n",
    "    4. Genera una elección aleatoria para el segundo jugador (la computadora) utilizando el módulo `random`.\n",
    "\n",
    "    5. Determina al ganador de cada ronda y actualiza los puntos correspondientes.\n",
    "\n",
    "    6. Verifica si algún jugador ha alcanzado el número de puntos objetivo y finalicen el juego cuando eso suceda."
   ]
  },
  {
   "cell_type": "markdown",
   "id": "65a27ea2",
   "metadata": {},
   "source": [
    "Código de Rocío"
   ]
  },
  {
   "cell_type": "code",
   "execution_count": null,
   "id": "dccc46c2",
   "metadata": {},
   "outputs": [],
   "source": [
    "#Todo funciona correctamente, se puede mejorar haciendo una indicacion en caso de que la palabra del input no sea ninguna de la lista\n",
    "objeto_juego = [ \"piedra\", \"papel\", \"tijera\"]\n",
    "import random\n",
    "def piedrapapeltijera():\n",
    "\n",
    "    contador_jugador = 0\n",
    "    contador_computadora = 0\n",
    "    \n",
    "\n",
    " \n",
    "    while True:\n",
    "\n",
    "        objeto_jugador = input(\"Indica una de estas tres opciones: 'piedra', 'papel' o 'tijera'. Si quieres para la partida indica 'salir'\").strip().lower()\n",
    "        print(\"Has seleccionado\", objeto_jugador)\n",
    "        \n",
    "        objeto_computadora = random.choice(objeto_juego)\n",
    "        print(f\"Computadora ha elegido {objeto_computadora}\")\n",
    "        \n",
    "        if objeto_jugador == 'salir':\n",
    "            break\n",
    "\n",
    "\n",
    "        if objeto_jugador == \"piedra\" and objeto_computadora == \"tijera\":\n",
    "            contador_jugador += 1\n",
    "            print(f\"Jugador 1 gana esta ronda, lleva {contador_jugador} rondas ganadas\")\n",
    "\n",
    "        if objeto_jugador == \"tijera\" and objeto_computadora == \"papel\":\n",
    "            contador_jugador += 1\n",
    "            print(f\"Jugador 1 gana esta ronda, lleva {contador_jugador} rondas ganadas\")\n",
    "\n",
    "        if objeto_jugador == \"papel\" and objeto_computadora == \"piedra\":\n",
    "            contador_jugador += 1\n",
    "            print(f\"Jugador 1 gana esta ronda, lleva {contador_jugador} rondas ganadas\")\n",
    "        \n",
    "        if objeto_computadora == \"piedra\" and objeto_jugador == \"tijera\":\n",
    "            contador_computadora += 1\n",
    "            print(f\"Computadora gana esta ronda, lleva {contador_computadora} rondas ganadas\")\n",
    "\n",
    "        if objeto_computadora == \"tijera\" and objeto_jugador == \"papel\":\n",
    "            contador_computadora += 1\n",
    "            print(f\"Computadora gana esta ronda, lleva {contador_computadora} rondas ganadas\")\n",
    "\n",
    "        if objeto_computadora == \"papel\" and objeto_jugador == \"piedra\":\n",
    "            contador_computadora += 1\n",
    "            print(f\"Computadora gana esta ronda, lleva {contador_computadora} rondas ganadas\")\n",
    "\n",
    "                \n",
    "        if contador_jugador == 3 or contador_computadora == 3:\n",
    "            print(\"Partida finalizada\")\n",
    "            \n",
    "\n",
    "        if contador_jugador == 3:\n",
    "            print(\"Partida finalizada, el ganador es el Jugador 1\")\n",
    "            break\n",
    "            \n",
    "        if contador_computadora == 3:\n",
    "             print(\"Partida finalizada, la ganadora es la computadora\")\n",
    "             break\n",
    "            \n",
    "            "
   ]
  },
  {
   "cell_type": "code",
   "execution_count": 4,
   "id": "63b74f46",
   "metadata": {},
   "outputs": [
    {
     "name": "stdout",
     "output_type": "stream",
     "text": [
      "Has seleccionado piedra\n",
      "Computadora ha elegido tijera\n",
      "Jugador 1 gana esta ronda, lleva 1 rondas ganadas\n",
      "Has seleccionado papel\n",
      "Computadora ha elegido tijera\n",
      "Computadora gana esta ronda, lleva 1 rondas ganadas\n",
      "Has seleccionado tijera\n",
      "Computadora ha elegido papel\n",
      "Jugador 1 gana esta ronda, lleva 2 rondas ganadas\n",
      "Has seleccionado tijera\n",
      "Computadora ha elegido tijera\n",
      "Has seleccionado piedra\n",
      "Computadora ha elegido piedra\n",
      "Has seleccionado papel\n",
      "Computadora ha elegido papel\n",
      "Has seleccionado papel\n",
      "Computadora ha elegido papel\n",
      "Has seleccionado tijera\n",
      "Computadora ha elegido piedra\n",
      "Computadora gana esta ronda, lleva 2 rondas ganadas\n",
      "Has seleccionado piedra\n",
      "Computadora ha elegido tijera\n",
      "Jugador 1 gana esta ronda, lleva 3 rondas ganadas\n",
      "Partida finalizada\n",
      "Partida finalizada, el ganador es el Jugador 1\n"
     ]
    }
   ],
   "source": [
    "piedrapapeltijera()"
   ]
  },
  {
   "cell_type": "code",
   "execution_count": null,
   "id": "ddb45a56",
   "metadata": {},
   "outputs": [],
   "source": []
  },
  {
   "cell_type": "markdown",
   "id": "795bbd5d",
   "metadata": {},
   "source": [
    "Código de Thaissa"
   ]
  },
  {
   "cell_type": "code",
   "execution_count": null,
   "id": "672dc10a",
   "metadata": {},
   "outputs": [],
   "source": []
  },
  {
   "cell_type": "markdown",
   "id": "8c88c678",
   "metadata": {},
   "source": [
    "Código de Patricia"
   ]
  },
  {
   "cell_type": "code",
   "execution_count": 3,
   "id": "c7af30eb",
   "metadata": {},
   "outputs": [],
   "source": [
    "import random"
   ]
  },
  {
   "cell_type": "code",
   "execution_count": null,
   "id": "76fb9e69",
   "metadata": {},
   "outputs": [],
   "source": [
    "# no imprime, no para y bucle infinito.\n",
    "\n",
    "def jugar():\n",
    "    jugando = True\n",
    "    puntuacion_usuario = 0\n",
    "    puntuacion_maquina = 0\n",
    "    opciones = [\"piedra\", \"papel\", \"tijera\"]\n",
    "\n",
    "    while jugando  == True:\n",
    "        eleccion_usuario = input(\"Bienvenido al juego ¡Piedra, papel o tijera'! Por favor, introduce tu elección:\")\n",
    "        print(f\"¡Has escogido {eleccion_usuario}!\")\n",
    "        eleccion_maquina = random.sample(opciones, 1)\n",
    "        print(f\"¡La máquina ha escogido {eleccion_maquina}!\")\n",
    "\n",
    "        if puntuacion_maquina < 3 or puntuacion_usuario < 3:\n",
    "\n",
    "            if eleccion_maquina == eleccion_usuario:\n",
    "                print (f\"¡Empate! Ambos habéis escogido {eleccion_usuario}.\")\n",
    "\n",
    "            elif eleccion_usuario == \"tijera\" and eleccion_maquina == \"papel\":\n",
    "                puntuacion_usuario += 1\n",
    "                print (f\"{eleccion_usuario} corta a {eleccion_maquina}! Tienes {puntuacion_usuario} puntos\")\n",
    "                \n",
    "\n",
    "            elif eleccion_usuario == \"papel\" and eleccion_maquina == \"piedra\":\n",
    "                puntuacion_usuario += 1\n",
    "                print (f\"{eleccion_usuario} envuelve a {eleccion_maquina}! Tienes {puntuacion_usuario} puntos\")\n",
    "                \n",
    "\n",
    "            elif eleccion_usuario == \"piedra\" and eleccion_maquina == \"tijera\":\n",
    "                puntuacion_usuario += 1\n",
    "                print (f\"{eleccion_usuario} machaca {eleccion_maquina}! Tienes {puntuacion_usuario} puntos\")\n",
    "\n",
    "            else:\n",
    "                puntuacion_maquina += 1\n",
    "                print(f\"Gana máquina porque ha elegido {eleccion_maquina}. La máquina lleva {puntuacion_maquina} puntos.\")\n",
    "\n",
    "        elif puntuacion_maquina == 3:\n",
    "            print(\"¡La máquina ha ganado esta ronda!\")\n",
    "            jugando = False\n",
    "\n",
    "        elif puntuacion_usuario == 3:\n",
    "            print(\"¡Has ganado esta ronda!\")\n",
    "            jugando = False\n"
   ]
  },
  {
   "cell_type": "code",
   "execution_count": null,
   "id": "97f7145e",
   "metadata": {},
   "outputs": [
    {
     "name": "stdout",
     "output_type": "stream",
     "text": [
      "¡Has escogido tijera!\n",
      "¡La máquina ha escogido ['tijera']!\n",
      "Gana máquina porque ha elegido ['tijera']. La máquina lleva 1 puntos.\n",
      "¡Has escogido tijera!\n",
      "¡La máquina ha escogido ['piedra']!\n",
      "Gana máquina porque ha elegido ['piedra']. La máquina lleva 2 puntos.\n"
     ]
    }
   ],
   "source": [
    "jugar()"
   ]
  },
  {
   "cell_type": "code",
   "execution_count": null,
   "id": "370ded26",
   "metadata": {},
   "outputs": [],
   "source": []
  },
  {
   "cell_type": "markdown",
   "id": "84c10872",
   "metadata": {},
   "source": [
    "Código de Jennifer"
   ]
  },
  {
   "cell_type": "code",
   "execution_count": null,
   "id": "3ed61b58",
   "metadata": {},
   "outputs": [],
   "source": []
  },
  {
   "cell_type": "markdown",
   "id": "48d1a355",
   "metadata": {},
   "source": [
    "Código de Ana Isabel"
   ]
  },
  {
   "cell_type": "code",
   "execution_count": null,
   "id": "ca0b9a7b",
   "metadata": {},
   "outputs": [],
   "source": []
  }
 ],
 "metadata": {
  "kernelspec": {
   "display_name": "base",
   "language": "python",
   "name": "python3"
  },
  "language_info": {
   "codemirror_mode": {
    "name": "ipython",
    "version": 3
   },
   "file_extension": ".py",
   "mimetype": "text/x-python",
   "name": "python",
   "nbconvert_exporter": "python",
   "pygments_lexer": "ipython3",
   "version": "3.13.5"
  }
 },
 "nbformat": 4,
 "nbformat_minor": 5
}
