{
 "cells": [
  {
   "cell_type": "markdown",
   "id": "f360dc52",
   "metadata": {},
   "source": [
    "## Piedra, papel y tijera\n",
    "\n",
    "- Reglas del Juego \"Piedra, Papel y Tijera\":\n",
    "\n",
    "    - Dos jugadores eligen una de las tres opciones: \"Piedra\", \"Papel\" o \"Tijera\".\n",
    "\n",
    "    - Las reglas para determinar al ganador son:\n",
    "        \n",
    "        - Piedra vence a Tijera.\n",
    "\n",
    "        - Tijera vence a Papel.\n",
    "\n",
    "        - Papel vence a Piedra.\n",
    "\n",
    "        - El jugador que gana una ronda obtiene un punto.\n",
    "        \n",
    "        - El juego continúa hasta que un jugador haya acumulado 3 puntos, convirtiéndose en el ganador.\n",
    "\n",
    "\n",
    "- Pistas para las alumnas:\n",
    "\n",
    "    1. Comienza por definir el número de puntos objetivo que se deben alcanzar para ganar el juego.\n",
    "\n",
    "    2. Implementa una función que obtenga la elección del jugador y valide que sea una de las opciones válidas (\"Piedra\", \"Papel\" o \"Tijera\").\n",
    "\n",
    "    3. Utiliza un bucle `while` para llevar un registro de los puntos de cada jugador y continuar el juego hasta que se alcance el número de puntos objetivo.\n",
    "\n",
    "    4. Genera una elección aleatoria para el segundo jugador (la computadora) utilizando el módulo `random`.\n",
    "\n",
    "    5. Determina al ganador de cada ronda y actualiza los puntos correspondientes.\n",
    "\n",
    "    6. Verifica si algún jugador ha alcanzado el número de puntos objetivo y finalicen el juego cuando eso suceda."
   ]
  },
  {
   "cell_type": "markdown",
   "id": "65a27ea2",
   "metadata": {},
   "source": [
    "Código de Rocío"
   ]
  },
  {
   "cell_type": "code",
   "execution_count": null,
   "id": "dccc46c2",
   "metadata": {},
   "outputs": [],
   "source": []
  },
  {
   "cell_type": "markdown",
   "id": "795bbd5d",
   "metadata": {},
   "source": [
    "Código de Thaissa"
   ]
  },
  {
   "cell_type": "code",
   "execution_count": null,
   "id": "672dc10a",
   "metadata": {},
   "outputs": [],
   "source": []
  },
  {
   "cell_type": "markdown",
   "id": "8c88c678",
   "metadata": {},
   "source": [
    "Código de Patricia"
   ]
  },
  {
   "cell_type": "markdown",
   "id": "9f009dd4",
   "metadata": {},
   "source": []
  },
  {
   "cell_type": "markdown",
   "id": "d4034483",
   "metadata": {},
   "source": [
    "Código de Jennifer"
   ]
  },
  {
   "cell_type": "code",
   "execution_count": null,
   "id": "3ed61b58",
   "metadata": {},
   "outputs": [],
   "source": []
  },
  {
   "cell_type": "markdown",
   "id": "48d1a355",
   "metadata": {},
   "source": [
    "Código de Ana Isabel"
   ]
  },
  {
   "cell_type": "code",
   "execution_count": null,
   "id": "ca0b9a7b",
   "metadata": {},
   "outputs": [],
   "source": []
  }
 ],
 "metadata": {
  "kernelspec": {
   "display_name": "base",
   "language": "python",
   "name": "python3"
  },
  "language_info": {
   "name": "python",
   "version": "3.12.7"
  }
 },
 "nbformat": 4,
 "nbformat_minor": 5
}
